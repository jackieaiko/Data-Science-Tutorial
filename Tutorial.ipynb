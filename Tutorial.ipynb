{
 "cells": [
  {
   "cell_type": "markdown",
   "metadata": {},
   "source": [
    "# Tutorial\n",
    "\n",
    "#### Setup\n",
    "* clone the repo\n",
    "* pip install google-cloud-storage\n",
    "* pip install google-cloud-bigquery\n",
    "* create a new project in GCP"
   ]
  },
  {
   "attachments": {},
   "cell_type": "markdown",
   "metadata": {},
   "source": [
    "### Create service account and API key\n",
    "1. Go to IAM & Admin > Service Accounts\n",
    "2. Click Create Service Account\n",
    "3. Choose a service account name\n",
    "4. Select role: Cloud Storage: Storage Admin\n",
    "\n",
    "###\n",
    "1. Click on email address of the newly created service account\n",
    "2. Go to Keys tab\n",
    "3. Click Add Key > Create New Key\n",
    "4. Select JSON as key type\n"
   ]
  },
  {
   "attachments": {},
   "cell_type": "markdown",
   "metadata": {},
   "source": [
    "### Creating a Cloud Storage Bucket"
   ]
  },
  {
   "attachments": {},
   "cell_type": "markdown",
   "metadata": {},
   "source": [
    "### Uploading to an Existing Bucket"
   ]
  },
  {
   "attachments": {},
   "cell_type": "markdown",
   "metadata": {},
   "source": [
    "### Downloading from a Bucket"
   ]
  },
  {
   "attachments": {},
   "cell_type": "markdown",
   "metadata": {},
   "source": [
    "## Part 2\n",
    "### Updating Permissions for BigQuery\n",
    "1. Go to IAM & Admin > IAM\n",
    "2. Select service account principal and click edit\n",
    "3. Add Roles: \n",
    "    * BigQuery Data Editor\n",
    "    * BigQuery Data Owner\n",
    "    * BigQuery Job User\n",
    "    * BigQuery Storage Admin\n",
    "4. Save"
   ]
  },
  {
   "attachments": {},
   "cell_type": "markdown",
   "metadata": {},
   "source": [
    "### Using data in BigQuery on interface\n",
    "1. Click ADD\n",
    "2. use source Google Cloud Storage\n",
    "3. schema: auto detect"
   ]
  },
  {
   "attachments": {},
   "cell_type": "markdown",
   "metadata": {},
   "source": [
    "### Via API..."
   ]
  },
  {
   "attachments": {},
   "cell_type": "markdown",
   "metadata": {},
   "source": [
    "### Query Data"
   ]
  }
 ],
 "metadata": {
  "language_info": {
   "name": "python"
  },
  "orig_nbformat": 4
 },
 "nbformat": 4,
 "nbformat_minor": 2
}
